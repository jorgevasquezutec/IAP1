{
  "nbformat": 4,
  "nbformat_minor": 0,
  "metadata": {
    "colab": {
      "name": "ProyectoIA.ipynb",
      "provenance": [],
      "collapsed_sections": [],
      "authorship_tag": "ABX9TyNRhiwYU3kQY69Pgg8+98VC",
      "include_colab_link": true
    },
    "kernelspec": {
      "name": "python3",
      "display_name": "Python 3"
    },
    "language_info": {
      "name": "python"
    }
  },
  "cells": [
    {
      "cell_type": "markdown",
      "metadata": {
        "id": "view-in-github",
        "colab_type": "text"
      },
      "source": [
        "<a href=\"https://colab.research.google.com/github/jorgevasquezutec/IAP1/blob/main/ProyectoIA.ipynb\" target=\"_parent\"><img src=\"https://colab.research.google.com/assets/colab-badge.svg\" alt=\"Open In Colab\"/></a>"
      ]
    },
    {
      "cell_type": "code",
      "execution_count": null,
      "metadata": {
        "id": "5jX99cMIXVuZ"
      },
      "outputs": [],
      "source": [
        "pip install gdown"
      ]
    },
    {
      "cell_type": "code",
      "source": [
        "import pandas as pd\n",
        "from PIL import Image\n",
        "import pywt \n",
        "import pywt.data \n",
        "from google.colab.patches import cv2_imshow\n",
        "from zipfile import ZipFile \n",
        "import gdown\n",
        "import matplotlib.pyplot as plt\n",
        "from skimage import io  \n",
        "import numpy as np \n",
        "from skimage import color \n",
        "from skimage.transform import rescale, resize, downscale_local_mean\n",
        "from sklearn.neighbors import KDTree"
      ],
      "metadata": {
        "id": "kEB85e3ggPlh"
      },
      "execution_count": 158,
      "outputs": []
    },
    {
      "cell_type": "code",
      "source": [
        "url =  'https://drive.google.com/uc?id=1ggXfBRFh4Xmp4XYLCi9zL0Ezaosuqwa6'\n",
        "output = 'trafico.zip'\n",
        "gdown.download(url, output, quiet=False)"
      ],
      "metadata": {
        "colab": {
          "base_uri": "https://localhost:8080/",
          "height": 105
        },
        "id": "m2Un_6xMcMjS",
        "outputId": "597f8804-032e-4de7-c57e-368908dfd7c4"
      },
      "execution_count": null,
      "outputs": [
        {
          "output_type": "stream",
          "name": "stderr",
          "text": [
            "Downloading...\n",
            "From: https://drive.google.com/uc?id=1ggXfBRFh4Xmp4XYLCi9zL0Ezaosuqwa6\n",
            "To: /content/trafico.zip\n",
            "100%|██████████| 58.6M/58.6M [00:02<00:00, 26.0MB/s]\n"
          ]
        },
        {
          "output_type": "execute_result",
          "data": {
            "text/plain": [
              "'trafico.zip'"
            ],
            "application/vnd.google.colaboratory.intrinsic+json": {
              "type": "string"
            }
          },
          "metadata": {},
          "execution_count": 30
        }
      ]
    },
    {
      "cell_type": "code",
      "source": [
        "with ZipFile('trafico.zip', 'r') as zipObj: # Extract all the contents of zip file in current directory \n",
        "  zipObj.extractall() "
      ],
      "metadata": {
        "id": "HOzdONXHejln"
      },
      "execution_count": null,
      "outputs": []
    },
    {
      "cell_type": "code",
      "source": [
        "def haarPath(x, path): \n",
        "  image = io.imread(path)\n",
        "  coeffs2 = pywt.dwt2(image, 'Haar') \n",
        "  LL, (LH, HL, HH) = coeffs2 \n",
        "  for i in range(x-1): \n",
        "    coeffs2 = pywt.dwt2(LL, 'Haar') \n",
        "    LL, (LH, HL, HH) = coeffs2 \n",
        "  return LL"
      ],
      "metadata": {
        "id": "fk5BOIjXc9Ya"
      },
      "execution_count": 100,
      "outputs": []
    },
    {
      "cell_type": "code",
      "source": [
        "def haar(x, image): \n",
        "  coeffs2 = pywt.dwt2(image, 'Haar') \n",
        "  LL, (LH, HL, HH) = coeffs2 \n",
        "  for i in range(x-1): \n",
        "    coeffs2 = pywt.dwt2(LL, 'Haar') \n",
        "    LL, (LH, HL, HH) = coeffs2 \n",
        "  return LL.flatten(),LL"
      ],
      "metadata": {
        "id": "LXP8EreHoBMV"
      },
      "execution_count": 138,
      "outputs": []
    },
    {
      "cell_type": "code",
      "source": [
        "\"\"\"\n",
        ". Es importante tener en cuenta que las imagenes no necesariamente son del mismo ´\n",
        "tamano, asi que, su grupo deber ˜ a hacer un resize para que todas las im ´ agenes tengan las mismas dimensiones\n",
        "\"\"\"\n",
        "path_trafico='Trafico/'\n",
        "path_train=path_trafico+'Train'\n",
        "\n",
        "df = pd.read_csv('Trafico/Train.csv')\n",
        "width_max=  round(df['Width'].mean())\n",
        "height_max = round(df['Height'].mean())\n",
        "#print(df)\n",
        "\n",
        "# fig = plt.figure(figsize=(8, 8))\n",
        "# columns = 4\n",
        "# rows = 5\n",
        "x=[]\n",
        "y=[]\n",
        "for i in df.index :\n",
        "  image = io.imread(path_trafico+df['Path'][i])\n",
        "  imgGray=color.rgb2gray(image)\n",
        "  image_resized = resize(imgGray, ( width_max, height_max),\n",
        "                       anti_aliasing=True)\n",
        "  vector,imagenShow = haar(1,image_resized)\n",
        "  x.append(vector)\n",
        "  y.append(df['ClassId'][i])\n",
        "  \n",
        "  #plt.imshow(imagenShow, cmap = 'gray')\n",
        "  # fig.add_subplot(rows,columns, i+1)\n",
        "  # plt.imshow(image_resized, cmap = 'gray')\n",
        "#   print(len(vector))\n",
        "# plt.show()\n"
      ],
      "metadata": {
        "id": "s-xQ1Os1dSbH",
        "colab": {
          "base_uri": "https://localhost:8080/"
        },
        "outputId": "b6795834-3c2b-409a-c5ea-1b9880fa453f"
      },
      "execution_count": 160,
      "outputs": [
        {
          "output_type": "stream",
          "name": "stdout",
          "text": [
            "       Width  Height  Roi.X1  Roi.Y1  Roi.X2  Roi.Y2  ClassId  \\\n",
            "0         29      30       5       6      24      25        0   \n",
            "1         30      30       5       5      25      25        0   \n",
            "2         30      30       5       5      25      25        0   \n",
            "3         31      31       5       5      26      26        0   \n",
            "4         30      32       5       6      25      26        0   \n",
            "...      ...     ...     ...     ...     ...     ...      ...   \n",
            "12196     47      47       5       5      42      42        9   \n",
            "12197     51      51       6       6      45      46        9   \n",
            "12198     53      53       6       5      48      48        9   \n",
            "12199     57      57       6       5      51      51        9   \n",
            "12200     59      60       5       5      54      55        9   \n",
            "\n",
            "                                Path  \n",
            "0      Train/0/00000_00000_00000.png  \n",
            "1      Train/0/00000_00000_00001.png  \n",
            "2      Train/0/00000_00000_00002.png  \n",
            "3      Train/0/00000_00000_00003.png  \n",
            "4      Train/0/00000_00000_00004.png  \n",
            "...                              ...  \n",
            "12196  Train/9/00009_00048_00022.png  \n",
            "12197  Train/9/00009_00048_00023.png  \n",
            "12198  Train/9/00009_00048_00024.png  \n",
            "12199  Train/9/00009_00048_00025.png  \n",
            "12200  Train/9/00009_00048_00026.png  \n",
            "\n",
            "[12201 rows x 8 columns]\n"
          ]
        }
      ]
    },
    {
      "cell_type": "code",
      "source": [
        ""
      ],
      "metadata": {
        "id": "AA4_MhT5wMI5"
      },
      "execution_count": null,
      "outputs": []
    }
  ]
}